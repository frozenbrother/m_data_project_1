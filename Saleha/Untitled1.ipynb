{
 "cells": [
  {
   "cell_type": "code",
   "execution_count": 26,
   "id": "58b3593f-c27e-4a4e-8b8d-119ffa793ea8",
   "metadata": {},
   "outputs": [],
   "source": [
    "import numpy as np\n",
    "import matplotlib.pyplot as plt\n",
    "import pandas as pd\n",
    "import seaborn as sns\n",
    "sns.set_theme(style='darkgrid')"
   ]
  },
  {
   "cell_type": "code",
   "execution_count": 63,
   "id": "97a50020-431d-4840-a89f-0e9fe6d0ffc0",
   "metadata": {},
   "outputs": [
    {
     "data": {
      "text/html": [
       "<div>\n",
       "<style scoped>\n",
       "    .dataframe tbody tr th:only-of-type {\n",
       "        vertical-align: middle;\n",
       "    }\n",
       "\n",
       "    .dataframe tbody tr th {\n",
       "        vertical-align: top;\n",
       "    }\n",
       "\n",
       "    .dataframe thead th {\n",
       "        text-align: right;\n",
       "    }\n",
       "</style>\n",
       "<table border=\"1\" class=\"dataframe\">\n",
       "  <thead>\n",
       "    <tr style=\"text-align: right;\">\n",
       "      <th></th>\n",
       "      <th>Crash ID</th>\n",
       "      <th>State</th>\n",
       "      <th>Month</th>\n",
       "      <th>Year</th>\n",
       "      <th>Dayweek</th>\n",
       "      <th>Time</th>\n",
       "      <th>Crash Type</th>\n",
       "      <th>Bus Involvement</th>\n",
       "      <th>Heavy Rigid Truck Involvement</th>\n",
       "      <th>Articulated Truck Involvement</th>\n",
       "      <th>...</th>\n",
       "      <th>Age</th>\n",
       "      <th>National Remoteness Areas</th>\n",
       "      <th>SA4 Name 2016</th>\n",
       "      <th>National LGA Name 2017</th>\n",
       "      <th>National Road Type</th>\n",
       "      <th>Christmas Period</th>\n",
       "      <th>Easter Period</th>\n",
       "      <th>Age Group</th>\n",
       "      <th>Day of week</th>\n",
       "      <th>Time of day</th>\n",
       "    </tr>\n",
       "  </thead>\n",
       "  <tbody>\n",
       "    <tr>\n",
       "      <th>0</th>\n",
       "      <td>20212133</td>\n",
       "      <td>Vic</td>\n",
       "      <td>9</td>\n",
       "      <td>2021</td>\n",
       "      <td>Sunday</td>\n",
       "      <td>0:30</td>\n",
       "      <td>Single</td>\n",
       "      <td>NaN</td>\n",
       "      <td>NaN</td>\n",
       "      <td>NaN</td>\n",
       "      <td>...</td>\n",
       "      <td>38</td>\n",
       "      <td>Inner Regional Australia</td>\n",
       "      <td>Melbourne - Outer East</td>\n",
       "      <td>Yarra Ranges (S)</td>\n",
       "      <td>Arterial Road</td>\n",
       "      <td>No</td>\n",
       "      <td>No</td>\n",
       "      <td>26_to_39</td>\n",
       "      <td>Weekend</td>\n",
       "      <td>Night</td>\n",
       "    </tr>\n",
       "    <tr>\n",
       "      <th>1</th>\n",
       "      <td>20214022</td>\n",
       "      <td>SA</td>\n",
       "      <td>9</td>\n",
       "      <td>2021</td>\n",
       "      <td>Saturday</td>\n",
       "      <td>23:31</td>\n",
       "      <td>Multiple</td>\n",
       "      <td>No</td>\n",
       "      <td>No</td>\n",
       "      <td>No</td>\n",
       "      <td>...</td>\n",
       "      <td>28</td>\n",
       "      <td>Major Cities of Australia</td>\n",
       "      <td>Adelaide - North</td>\n",
       "      <td>Playford (C)</td>\n",
       "      <td>NaN</td>\n",
       "      <td>No</td>\n",
       "      <td>No</td>\n",
       "      <td>26_to_39</td>\n",
       "      <td>Weekend</td>\n",
       "      <td>Night</td>\n",
       "    </tr>\n",
       "    <tr>\n",
       "      <th>2</th>\n",
       "      <td>20212096</td>\n",
       "      <td>Vic</td>\n",
       "      <td>9</td>\n",
       "      <td>2021</td>\n",
       "      <td>Saturday</td>\n",
       "      <td>23:00</td>\n",
       "      <td>Single</td>\n",
       "      <td>NaN</td>\n",
       "      <td>NaN</td>\n",
       "      <td>NaN</td>\n",
       "      <td>...</td>\n",
       "      <td>19</td>\n",
       "      <td>Inner Regional Australia</td>\n",
       "      <td>Hume</td>\n",
       "      <td>Wangaratta (RC)</td>\n",
       "      <td>Access road</td>\n",
       "      <td>No</td>\n",
       "      <td>No</td>\n",
       "      <td>17_to_25</td>\n",
       "      <td>Weekend</td>\n",
       "      <td>Night</td>\n",
       "    </tr>\n",
       "    <tr>\n",
       "      <th>3</th>\n",
       "      <td>20212145</td>\n",
       "      <td>Vic</td>\n",
       "      <td>9</td>\n",
       "      <td>2021</td>\n",
       "      <td>Saturday</td>\n",
       "      <td>22:25</td>\n",
       "      <td>Single</td>\n",
       "      <td>NaN</td>\n",
       "      <td>NaN</td>\n",
       "      <td>NaN</td>\n",
       "      <td>...</td>\n",
       "      <td>23</td>\n",
       "      <td>Outer Regional Australia</td>\n",
       "      <td>Hume</td>\n",
       "      <td>Wangaratta (RC)</td>\n",
       "      <td>Arterial Road</td>\n",
       "      <td>No</td>\n",
       "      <td>No</td>\n",
       "      <td>17_to_25</td>\n",
       "      <td>Weekend</td>\n",
       "      <td>Night</td>\n",
       "    </tr>\n",
       "    <tr>\n",
       "      <th>4</th>\n",
       "      <td>20212075</td>\n",
       "      <td>Vic</td>\n",
       "      <td>9</td>\n",
       "      <td>2021</td>\n",
       "      <td>Saturday</td>\n",
       "      <td>5:15</td>\n",
       "      <td>Single</td>\n",
       "      <td>NaN</td>\n",
       "      <td>NaN</td>\n",
       "      <td>NaN</td>\n",
       "      <td>...</td>\n",
       "      <td>46</td>\n",
       "      <td>Major Cities of Australia</td>\n",
       "      <td>Melbourne - South East</td>\n",
       "      <td>Casey (C)</td>\n",
       "      <td>Local Road</td>\n",
       "      <td>No</td>\n",
       "      <td>No</td>\n",
       "      <td>40_to_64</td>\n",
       "      <td>Weekend</td>\n",
       "      <td>Night</td>\n",
       "    </tr>\n",
       "  </tbody>\n",
       "</table>\n",
       "<p>5 rows × 23 columns</p>\n",
       "</div>"
      ],
      "text/plain": [
       "   Crash ID State  Month  Year   Dayweek   Time Crash Type Bus Involvement  \\\n",
       "0  20212133   Vic      9  2021    Sunday   0:30     Single             NaN   \n",
       "1  20214022    SA      9  2021  Saturday  23:31   Multiple              No   \n",
       "2  20212096   Vic      9  2021  Saturday  23:00     Single             NaN   \n",
       "3  20212145   Vic      9  2021  Saturday  22:25     Single             NaN   \n",
       "4  20212075   Vic      9  2021  Saturday   5:15     Single             NaN   \n",
       "\n",
       "  Heavy Rigid Truck Involvement Articulated Truck Involvement  ... Age  \\\n",
       "0                           NaN                           NaN  ...  38   \n",
       "1                            No                            No  ...  28   \n",
       "2                           NaN                           NaN  ...  19   \n",
       "3                           NaN                           NaN  ...  23   \n",
       "4                           NaN                           NaN  ...  46   \n",
       "\n",
       "   National Remoteness Areas           SA4 Name 2016  National LGA Name 2017  \\\n",
       "0   Inner Regional Australia  Melbourne - Outer East        Yarra Ranges (S)   \n",
       "1  Major Cities of Australia        Adelaide - North            Playford (C)   \n",
       "2   Inner Regional Australia                    Hume         Wangaratta (RC)   \n",
       "3   Outer Regional Australia                    Hume         Wangaratta (RC)   \n",
       "4  Major Cities of Australia  Melbourne - South East               Casey (C)   \n",
       "\n",
       "  National Road Type Christmas Period Easter Period Age Group Day of week  \\\n",
       "0      Arterial Road               No            No  26_to_39     Weekend   \n",
       "1                NaN               No            No  26_to_39     Weekend   \n",
       "2        Access road               No            No  17_to_25     Weekend   \n",
       "3      Arterial Road               No            No  17_to_25     Weekend   \n",
       "4         Local Road               No            No  40_to_64     Weekend   \n",
       "\n",
       "  Time of day  \n",
       "0       Night  \n",
       "1       Night  \n",
       "2       Night  \n",
       "3       Night  \n",
       "4       Night  \n",
       "\n",
       "[5 rows x 23 columns]"
      ]
     },
     "execution_count": 63,
     "metadata": {},
     "output_type": "execute_result"
    }
   ],
   "source": [
    "# data files\n",
    "crashes = pd.read_csv('Crash_Data.csv', low_memory=False)\n",
    "df=df_crashes\n",
    "df_crashes.head()"
   ]
  },
  {
   "cell_type": "code",
   "execution_count": 57,
   "id": "db72688f-ded4-403c-8541-3d0b3dc908a8",
   "metadata": {},
   "outputs": [],
   "source": [
    "# Labels for the sections of our pie chart\n",
    "labels = [\"Vic\", \"NSW\", \"SA\", \"QLD\", \"ACT\", \"NT\", \"WA\"]\n",
    "\n",
    "# The values of each section of the pie chart\n",
    "sizes = [220, 95, 80, 100, 120, 110, 200]\n",
    "\n",
    "\n",
    "colors = [\"red\", \"orange\", \"lightcoral\", \"lightskyblue\", \"grey\", \"plum\", \"palegreen\"]\n",
    "\n",
    "\n",
    "explode = (0.1, 0, 0, 0, 0, 0, 0)"
   ]
  },
  {
   "cell_type": "code",
   "execution_count": 58,
   "id": "cac78148-cbf0-4410-9771-59c956289442",
   "metadata": {},
   "outputs": [
    {
     "data": {
      "text/plain": [
       "([<matplotlib.patches.Wedge at 0x218c3318df0>,\n",
       "  <matplotlib.patches.Wedge at 0x218c3327640>,\n",
       "  <matplotlib.patches.Wedge at 0x218c3327e50>,\n",
       "  <matplotlib.patches.Wedge at 0x218c3334760>,\n",
       "  <matplotlib.patches.Wedge at 0x218c3334fd0>,\n",
       "  <matplotlib.patches.Wedge at 0x218c3342940>,\n",
       "  <matplotlib.patches.Wedge at 0x218c3350250>],\n",
       " [Text(0.26607898057334545, -1.170129042497899, 'Vic'),\n",
       "  Text(1.057958069500526, -0.3012054501145695, 'NSW'),\n",
       "  Text(1.0451959276725038, 0.34287821858032125, 'SA'),\n",
       "  Text(0.6590921482573314, 0.8806801576653899, 'QLD'),\n",
       "  Text(-0.11498131983694207, 1.093974083828568, 'ACT'),\n",
       "  Text(-0.8519139889000915, 0.6958753879225326, 'NT'),\n",
       "  Text(-1.026379577366586, -0.39565763377545005, 'WA')],\n",
       " [Text(0.15521273866778484, -0.6825752747904409, '23.8%'),\n",
       "  Text(0.5770680379093778, -0.16429388188067426, '10.3%'),\n",
       "  Text(0.5701068696395474, 0.18702448286199339, '8.6%'),\n",
       "  Text(0.35950480814036256, 0.4803709950902126, '10.8%'),\n",
       "  Text(-0.06271708354742293, 0.5967131366337644, '13.0%'),\n",
       "  Text(-0.464680357581868, 0.37956839341229043, '11.9%'),\n",
       "  Text(-0.5598434058363196, -0.2158132547866091, '21.6%')])"
      ]
     },
     "execution_count": 58,
     "metadata": {},
     "output_type": "execute_result"
    },
    {
     "data": {
      "image/png": "[encoded data removed]",
      "text/plain": [
       "<Figure size 432x288 with 1 Axes>"
      ]
     },
     "metadata": {},
     "output_type": "display_data"
    }
   ],
   "source": [
    "plt.pie(sizes, explode=explode, labels=labels, colors=colors,\n",
    "        autopct=\"%1.1f%%\", shadow=True, startangle=240)"
   ]
  },
  {
   "cell_type": "code",
   "execution_count": 83,
   "id": "e07196d1-acee-47be-b894-3d17d37153f4",
   "metadata": {},
   "outputs": [],
   "source": [
    "Age = [18, 25, 52, 30, 40, 50, 60]\n",
    "x_axis = np.arange(len(Age))"
   ]
  },
  {
   "cell_type": "code",
   "execution_count": 84,
   "id": "f33a1baa-aefb-4d77-a4fe-f75eb12438b7",
   "metadata": {},
   "outputs": [
    {
     "data": {
      "text/plain": [
       "<BarContainer object of 7 artists>"
      ]
     },
     "execution_count": 84,
     "metadata": {},
     "output_type": "execute_result"
    },
    {
     "data": {
      "image/png": "[encoded data removed]",
      "text/plain": [
       "<Figure size 432x288 with 1 Axes>"
      ]
     },
     "metadata": {},
     "output_type": "display_data"
    }
   ],
   "source": [
    "plt.bar(x_axis, Age, color='r', alpha=0.5, align=\"center\")"
   ]
  },
  {
   "cell_type": "code",
   "execution_count": 72,
   "id": "c9474823-3aed-4bc9-af01-c883f5350528",
   "metadata": {},
   "outputs": [
    {
     "data": {
      "text/plain": [
       "([<matplotlib.axis.XTick at 0x218c33bebb0>,\n",
       "  <matplotlib.axis.XTick at 0x218c33beb80>,\n",
       "  <matplotlib.axis.XTick at 0x218c33ba700>,\n",
       "  <matplotlib.axis.XTick at 0x218c22a73a0>,\n",
       "  <matplotlib.axis.XTick at 0x218c22a7130>,\n",
       "  <matplotlib.axis.XTick at 0x218c22a7c10>,\n",
       "  <matplotlib.axis.XTick at 0x218c22ac160>],\n",
       " [Text(0, 0, 'Vic'),\n",
       "  Text(1, 0, 'NSW'),\n",
       "  Text(2, 0, 'SA'),\n",
       "  Text(3, 0, 'QLD'),\n",
       "  Text(4, 0, 'ACT'),\n",
       "  Text(5, 0, 'NT'),\n",
       "  Text(6, 0, 'WA')])"
      ]
     },
     "execution_count": 72,
     "metadata": {},
     "output_type": "execute_result"
    },
    {
     "data": {
      "image/png": "[encoded data removed]",
      "text/plain": [
       "<Figure size 432x288 with 1 Axes>"
      ]
     },
     "metadata": {},
     "output_type": "display_data"
    }
   ],
   "source": [
    "tick_locations = [value for value in x_axis]\n",
    "plt.xticks(tick_locations, [\"Vic\", \"NSW\", \"SA\", \"QLD\", \"ACT\", \"NT\", \"WA\"])"
   ]
  },
  {
   "cell_type": "code",
   "execution_count": 91,
   "id": "48615fd1-cde3-46b4-9f03-9375b851edf7",
   "metadata": {},
   "outputs": [
    {
     "data": {
      "text/html": [
       "<div>\n",
       "<style scoped>\n",
       "    .dataframe tbody tr th:only-of-type {\n",
       "        vertical-align: middle;\n",
       "    }\n",
       "\n",
       "    .dataframe tbody tr th {\n",
       "        vertical-align: top;\n",
       "    }\n",
       "\n",
       "    .dataframe thead th {\n",
       "        text-align: right;\n",
       "    }\n",
       "</style>\n",
       "<table border=\"1\" class=\"dataframe\">\n",
       "  <thead>\n",
       "    <tr style=\"text-align: right;\">\n",
       "      <th></th>\n",
       "      <th>Crash Type</th>\n",
       "      <th>Heavy Rigid Truck Involvement</th>\n",
       "      <th>COUNT</th>\n",
       "    </tr>\n",
       "  </thead>\n",
       "  <tbody>\n",
       "    <tr>\n",
       "      <th>0</th>\n",
       "      <td>Multiple</td>\n",
       "      <td>No</td>\n",
       "      <td>13207</td>\n",
       "    </tr>\n",
       "    <tr>\n",
       "      <th>1</th>\n",
       "      <td>Single</td>\n",
       "      <td>No</td>\n",
       "      <td>17528</td>\n",
       "    </tr>\n",
       "  </tbody>\n",
       "</table>\n",
       "</div>"
      ],
      "text/plain": [
       "  Crash Type Heavy Rigid Truck Involvement  COUNT\n",
       "0   Multiple                            No  13207\n",
       "1     Single                            No  17528"
      ]
     },
     "execution_count": 91,
     "metadata": {},
     "output_type": "execute_result"
    }
   ],
   "source": [
    "\n",
    "df_crashes.groupby('Crash Type')['Heavy Rigid Truck Involvement'].apply(lambda x: x.value_counts().head(1)).reset_index(name='COUNT').rename(columns={'level_1': 'Heavy Rigid Truck Involvement'})"
   ]
  },
  {
   "cell_type": "code",
   "execution_count": 93,
   "id": "476211a7-9fbe-42f4-98d2-923b082c4cd9",
   "metadata": {},
   "outputs": [
    {
     "data": {
      "image/png": "[encoded data removed]",
      "text/plain": [
       "<Figure size 1080x1080 with 1 Axes>"
      ]
     },
     "metadata": {},
     "output_type": "display_data"
    }
   ],
   "source": [
    "plt.figure(figsize=(15, 15))\n",
    "sns.countplot(data=df_crashes,  y='Dayweek', order = df_crashes['Dayweek'].value_counts().index)\n",
    "plt.title('Primary Contributing Cause of Reported Crashes (1989 - 2011) ', y=1.01, fontsize=14)\n",
    "plt.xlabel('Number of Crashes', fontsize=13, labelpad=15)\n",
    "plt.ylabel('Primary Contributing Cause', fontsize=13, labelpad=15)\n",
    "plt.show();"
   ]
  },
  {
   "cell_type": "code",
   "execution_count": 100,
   "id": "01179b43-865e-4021-b74e-2372a2a68232",
   "metadata": {},
   "outputs": [
    {
     "data": {
      "text/html": [
       "<div>\n",
       "<style scoped>\n",
       "    .dataframe tbody tr th:only-of-type {\n",
       "        vertical-align: middle;\n",
       "    }\n",
       "\n",
       "    .dataframe tbody tr th {\n",
       "        vertical-align: top;\n",
       "    }\n",
       "\n",
       "    .dataframe thead th {\n",
       "        text-align: right;\n",
       "    }\n",
       "</style>\n",
       "<table border=\"1\" class=\"dataframe\">\n",
       "  <thead>\n",
       "    <tr style=\"text-align: right;\">\n",
       "      <th></th>\n",
       "      <th>Crash ID</th>\n",
       "      <th>Month</th>\n",
       "      <th>Year</th>\n",
       "      <th>Age</th>\n",
       "    </tr>\n",
       "  </thead>\n",
       "  <tbody>\n",
       "    <tr>\n",
       "      <th>count</th>\n",
       "      <td>5.284300e+04</td>\n",
       "      <td>52843.000000</td>\n",
       "      <td>52843.000000</td>\n",
       "      <td>52843.000000</td>\n",
       "    </tr>\n",
       "    <tr>\n",
       "      <th>mean</th>\n",
       "      <td>2.003021e+07</td>\n",
       "      <td>6.568685</td>\n",
       "      <td>2002.729974</td>\n",
       "      <td>39.662377</td>\n",
       "    </tr>\n",
       "    <tr>\n",
       "      <th>std</th>\n",
       "      <td>9.383542e+04</td>\n",
       "      <td>3.457347</td>\n",
       "      <td>9.378570</td>\n",
       "      <td>21.806198</td>\n",
       "    </tr>\n",
       "    <tr>\n",
       "      <th>min</th>\n",
       "      <td>1.989100e+07</td>\n",
       "      <td>1.000000</td>\n",
       "      <td>1989.000000</td>\n",
       "      <td>-9.000000</td>\n",
       "    </tr>\n",
       "    <tr>\n",
       "      <th>25%</th>\n",
       "      <td>1.995111e+07</td>\n",
       "      <td>4.000000</td>\n",
       "      <td>1995.000000</td>\n",
       "      <td>22.000000</td>\n",
       "    </tr>\n",
       "    <tr>\n",
       "      <th>50%</th>\n",
       "      <td>2.002144e+07</td>\n",
       "      <td>7.000000</td>\n",
       "      <td>2002.000000</td>\n",
       "      <td>34.000000</td>\n",
       "    </tr>\n",
       "    <tr>\n",
       "      <th>75%</th>\n",
       "      <td>2.010408e+07</td>\n",
       "      <td>10.000000</td>\n",
       "      <td>2010.000000</td>\n",
       "      <td>55.000000</td>\n",
       "    </tr>\n",
       "    <tr>\n",
       "      <th>max</th>\n",
       "      <td>2.021801e+07</td>\n",
       "      <td>12.000000</td>\n",
       "      <td>2021.000000</td>\n",
       "      <td>101.000000</td>\n",
       "    </tr>\n",
       "  </tbody>\n",
       "</table>\n",
       "</div>"
      ],
      "text/plain": [
       "           Crash ID         Month          Year           Age\n",
       "count  5.284300e+04  52843.000000  52843.000000  52843.000000\n",
       "mean   2.003021e+07      6.568685   2002.729974     39.662377\n",
       "std    9.383542e+04      3.457347      9.378570     21.806198\n",
       "min    1.989100e+07      1.000000   1989.000000     -9.000000\n",
       "25%    1.995111e+07      4.000000   1995.000000     22.000000\n",
       "50%    2.002144e+07      7.000000   2002.000000     34.000000\n",
       "75%    2.010408e+07     10.000000   2010.000000     55.000000\n",
       "max    2.021801e+07     12.000000   2021.000000    101.000000"
      ]
     },
     "execution_count": 100,
     "metadata": {},
     "output_type": "execute_result"
    }
   ],
   "source": [
    "crashes.describe()"
   ]
  },
  {
   "cell_type": "code",
   "execution_count": 103,
   "id": "35c46f01-93ab-4abf-a607-3429025d0c59",
   "metadata": {},
   "outputs": [
    {
     "data": {
      "image/png": "[encoded data removed]",
      "text/plain": [
       "<Figure size 864x864 with 4 Axes>"
      ]
     },
     "metadata": {},
     "output_type": "display_data"
    }
   ],
   "source": [
    "crashes.hist(figsize=[12,12])\n",
    "plt.suptitle(\"Numeric feature distribution\")\n",
    "plt.show()"
   ]
  },
  {
   "cell_type": "code",
   "execution_count": null,
   "id": "5915e7ad-a763-477e-8085-036e2bde8405",
   "metadata": {},
   "outputs": [],
   "source": []
  },
  {
   "cell_type": "code",
   "execution_count": null,
   "id": "d9ca8f2d-9d4a-4fbb-8c5e-4e5df0cd6cf0",
   "metadata": {},
   "outputs": [],
   "source": []
  },
  {
   "cell_type": "code",
   "execution_count": null,
   "id": "b8c8d042-888c-443a-a97d-94cd9a4d57a0",
   "metadata": {},
   "outputs": [],
   "source": []
  },
  {
   "cell_type": "code",
   "execution_count": null,
   "id": "e293121a-aeaa-4b4b-979d-46dbaabf4587",
   "metadata": {},
   "outputs": [],
   "source": []
  },
  {
   "cell_type": "code",
   "execution_count": null,
   "id": "7f4c40d1-2a4b-4800-af9b-86af03ef2cc5",
   "metadata": {},
   "outputs": [],
   "source": []
  },
  {
   "cell_type": "code",
   "execution_count": null,
   "id": "8b64de37-b72e-40cd-b9c7-154555296010",
   "metadata": {},
   "outputs": [],
   "source": []
  },
  {
   "cell_type": "code",
   "execution_count": null,
   "id": "14e3d1dd-9b3e-4ecb-a279-daec2650542d",
   "metadata": {},
   "outputs": [],
   "source": []
  },
  {
   "cell_type": "code",
   "execution_count": null,
   "id": "85d275d5-e54a-4add-a919-a0ea94fd1f73",
   "metadata": {},
   "outputs": [],
   "source": []
  }
 ],
 "metadata": {
  "kernelspec": {
   "display_name": "Python 3",
   "language": "python",
   "name": "python3"
  },
  "language_info": {
   "codemirror_mode": {
    "name": "ipython",
    "version": 3
   },
   "file_extension": ".py",
   "mimetype": "text/x-python",
   "name": "python",
   "nbconvert_exporter": "python",
   "pygments_lexer": "ipython3",
   "version": "3.8.8"
  }
 },
 "nbformat": 4,
 "nbformat_minor": 5
}
